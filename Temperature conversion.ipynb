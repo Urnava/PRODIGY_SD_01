{
 "cells": [
  {
   "cell_type": "code",
   "execution_count": 3,
   "id": "e0bdfd21",
   "metadata": {},
   "outputs": [],
   "source": [
    "import tkinter as tk\n",
    "from tkinter import ttk\n",
    "from tkinter import messagebox\n",
    "\n",
    "def convert_temperature():\n",
    "    try:\n",
    "        temperature = float(entry_temperature.get())\n",
    "        unit = combo_unit.get()\n",
    "\n",
    "        celsius, fahrenheit, kelvin = 0, 0, 0  # Initialize variables\n",
    "\n",
    "        if unit == 'Celsius':\n",
    "            fahrenheit = (temperature * 9/5) + 32\n",
    "            kelvin = temperature + 273.15\n",
    "        elif unit == 'Fahrenheit':\n",
    "            celsius = (temperature - 32) * 5/9\n",
    "            kelvin = (temperature - 32) * 5/9 + 273.15\n",
    "        elif unit == 'Kelvin':\n",
    "            celsius = temperature - 273.15\n",
    "            fahrenheit = (temperature - 273.15) * 9/5 + 32\n",
    "        else:\n",
    "            messagebox.showerror(\"Error\", \"Invalid unit\")\n",
    "            return\n",
    "\n",
    "        result = f\"{temperature} {unit} is equal to:\\n{celsius:.2f} Celsius, {fahrenheit:.2f} Fahrenheit, {kelvin:.2f} Kelvin\"\n",
    "        messagebox.showinfo(\"Result\", result)\n",
    "    except ValueError:\n",
    "        messagebox.showerror(\"Error\", \"Please enter a valid number for temperature\")\n",
    "\n",
    "# Create main window\n",
    "window = tk.Tk()\n",
    "window.title(\"Temperature Converter\")\n",
    "\n",
    "# Create input widgets\n",
    "label_temperature = tk.Label(window, text=\"Temperature:\")\n",
    "entry_temperature = tk.Entry(window)\n",
    "label_unit = tk.Label(window, text=\"Unit:\")\n",
    "combo_unit = ttk.Combobox(window, values=['Celsius', 'Fahrenheit', 'Kelvin'])\n",
    "combo_unit.set('Celsius')\n",
    "\n",
    "# Create convert button\n",
    "convert_button = tk.Button(window, text=\"Convert\", command=convert_temperature)\n",
    "\n",
    "# Arrange widgets using grid layout\n",
    "label_temperature.grid(row=0, column=0, padx=10, pady=10)\n",
    "entry_temperature.grid(row=0, column=1, padx=10, pady=10)\n",
    "label_unit.grid(row=1, column=0, padx=10, pady=10)\n",
    "combo_unit.grid(row=1, column=1, padx=10, pady=10)\n",
    "convert_button.grid(row=2, column=0, columnspan=2, pady=10)\n",
    "\n",
    "# Start the GUI event loop\n",
    "window.mainloop()\n"
   ]
  },
  {
   "cell_type": "code",
   "execution_count": null,
   "id": "e1620e78",
   "metadata": {},
   "outputs": [],
   "source": []
  }
 ],
 "metadata": {
  "kernelspec": {
   "display_name": "Python 3 (ipykernel)",
   "language": "python",
   "name": "python3"
  },
  "language_info": {
   "codemirror_mode": {
    "name": "ipython",
    "version": 3
   },
   "file_extension": ".py",
   "mimetype": "text/x-python",
   "name": "python",
   "nbconvert_exporter": "python",
   "pygments_lexer": "ipython3",
   "version": "3.9.13"
  }
 },
 "nbformat": 4,
 "nbformat_minor": 5
}
